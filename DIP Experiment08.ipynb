{
 "cells": [
  {
   "cell_type": "code",
   "execution_count": null,
   "id": "b812c934-1968-4d72-aa74-ba9156345e23",
   "metadata": {},
   "outputs": [],
   "source": []
  }
 ],
 "metadata": {
  "kernelspec": {
   "display_name": "",
   "name": ""
  },
  "language_info": {
   "name": ""
  }
 },
 "nbformat": 4,
 "nbformat_minor": 5
}
